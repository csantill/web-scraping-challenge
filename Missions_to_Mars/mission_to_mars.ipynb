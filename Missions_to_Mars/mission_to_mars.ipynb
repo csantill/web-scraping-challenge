{
 "cells": [
  {
   "cell_type": "code",
   "execution_count": 1,
   "metadata": {
    "ExecuteTime": {
     "end_time": "2020-04-25T02:48:59.308408Z",
     "start_time": "2020-04-25T02:48:58.324977Z"
    }
   },
   "outputs": [],
   "source": [
    "from IPython.display import Image\n",
    "from IPython.core.display import HTML \n",
    "\n",
    "from bs4 import BeautifulSoup\n",
    "from splinter import Browser\n",
    "import os\n",
    "import time\n",
    "import pandas as pd\n",
    "from selenium import webdriver"
   ]
  },
  {
   "cell_type": "code",
   "execution_count": 2,
   "metadata": {
    "ExecuteTime": {
     "end_time": "2020-04-25T02:49:04.796747Z",
     "start_time": "2020-04-25T02:48:59.310404Z"
    }
   },
   "outputs": [],
   "source": [
    " # Chromedriver windows\n",
    "\n",
    " executable_path = {'executable_path': 'chromedriver.exe'}\n",
    " browser = Browser('chrome', **executable_path, headless=False,incognito=True )"
   ]
  },
  {
   "cell_type": "code",
   "execution_count": 3,
   "metadata": {
    "ExecuteTime": {
     "end_time": "2020-04-25T02:49:08.486633Z",
     "start_time": "2020-04-25T02:49:04.799745Z"
    }
   },
   "outputs": [],
   "source": [
    "url = \"https://mars.nasa.gov/news/\"\n",
    "browser.visit(url)\n",
    "html = browser.html\n",
    "soup = BeautifulSoup(html,\"html.parser\")"
   ]
  },
  {
   "cell_type": "code",
   "execution_count": 4,
   "metadata": {
    "ExecuteTime": {
     "end_time": "2020-04-25T02:49:13.506756Z",
     "start_time": "2020-04-25T02:49:08.489632Z"
    }
   },
   "outputs": [
    {
     "name": "stdout",
     "output_type": "stream",
     "text": [
      "Title     : How NASA's Perseverance Mars Team Adjusted to Work in the Time of Coronavirus \n",
      "Paragraph : Like much of the rest of the world, the Mars rover team is pushing forward with its mission-critical work while putting the health and safety of their colleagues and community first.\n"
     ]
    }
   ],
   "source": [
    "# latest title\n",
    "time.sleep(5) # Need to wait for page to load for some reason\n",
    "\n",
    "article_list = soup.find('ul',class_='item_list')\n",
    "\n",
    "latest_title = article_list.find(\"div\",class_=\"content_title\").text\n",
    "latest_paragraph = article_list.find(\"div\", class_=\"article_teaser_body\").text\n",
    "print(f\"Title     : {latest_title}\")\n",
    "print(f\"Paragraph : {latest_paragraph}\")"
   ]
  },
  {
   "cell_type": "code",
   "execution_count": 5,
   "metadata": {
    "ExecuteTime": {
     "end_time": "2020-04-25T02:49:15.460637Z",
     "start_time": "2020-04-25T02:49:13.508755Z"
    }
   },
   "outputs": [],
   "source": [
    "# JPL Featured Mars Featured image\n",
    "root_url = 'https://www.jpl.nasa.gov'\n",
    "url_image = \"https://www.jpl.nasa.gov/spaceimages/?search=&category=Mars\"\n",
    "browser.visit(url_image)\n",
    "\n",
    "html = browser.html\n",
    "soup = BeautifulSoup(html, 'html.parser')"
   ]
  },
  {
   "cell_type": "code",
   "execution_count": 6,
   "metadata": {
    "ExecuteTime": {
     "end_time": "2020-04-25T02:49:15.481626Z",
     "start_time": "2020-04-25T02:49:15.461637Z"
    }
   },
   "outputs": [
    {
     "name": "stdout",
     "output_type": "stream",
     "text": [
      "https://www.jpl.nasa.gov/spaceimages/images/mediumsize/PIA19347_ip.jpg\n"
     ]
    },
    {
     "data": {
      "text/html": [
       "<img src=\"https://www.jpl.nasa.gov/spaceimages/images/mediumsize/PIA19347_ip.jpg\"/>"
      ],
      "text/plain": [
       "<IPython.core.display.Image object>"
      ]
     },
     "execution_count": 6,
     "metadata": {},
     "output_type": "execute_result"
    }
   ],
   "source": [
    "\n",
    "\n",
    "images = soup.find('a', class_=\"button fancybox\")\n",
    "image_ref = images['data-fancybox-href']\n",
    "#Displaying Featured image ... not always mars image\n",
    "featured_url = root_url + image_ref\n",
    "print(featured_url)\n",
    "Image(url= featured_url)"
   ]
  },
  {
   "cell_type": "code",
   "execution_count": 7,
   "metadata": {
    "ExecuteTime": {
     "end_time": "2020-04-25T02:49:15.504614Z",
     "start_time": "2020-04-25T02:49:15.482625Z"
    }
   },
   "outputs": [
    {
     "name": "stdout",
     "output_type": "stream",
     "text": [
      "April 23, 2020This image from NASAs Mars Odyssey shows linear depressions, part of Sirenum Fossae. These depressions are called graben, which form by the down drop of material between two parallel faults.\n",
      "\t\t\t\t\t\t\t\t\t\t\n",
      "https://www.jpl.nasa.gov/spaceimages/images/largesize/PIA23844_hires.jpg\n"
     ]
    },
    {
     "data": {
      "text/html": [
       "<img src=\"https://www.jpl.nasa.gov/spaceimages/images/largesize/PIA23844_hires.jpg\"/>"
      ],
      "text/plain": [
       "<IPython.core.display.Image object>"
      ]
     },
     "execution_count": 7,
     "metadata": {},
     "output_type": "execute_result"
    }
   ],
   "source": [
    "#lets get mars image\n",
    "image_list = soup.find('li', class_=\"slide\")\n",
    "images = image_list.find('a', class_='fancybox')\n",
    "image_txt = images.find_all('div','article_teaser_body')\n",
    "image_text = \"\"\n",
    "for txt in image_txt:\n",
    "    image_text +=txt.text.lstrip()\n",
    "    #print(txt.text.lstrip())\n",
    "\n",
    "print(image_text)    \n",
    "\n",
    "\n",
    "image_ref = images['data-fancybox-href']\n",
    "featured_url = root_url + image_ref\n",
    "print(featured_url)\n",
    "Image(url= featured_url)\n",
    "\n"
   ]
  },
  {
   "cell_type": "code",
   "execution_count": 8,
   "metadata": {
    "ExecuteTime": {
     "end_time": "2020-04-25T02:49:21.430217Z",
     "start_time": "2020-04-25T02:49:15.508611Z"
    },
    "tags": [
     "outputPrepend"
    ]
   },
   "outputs": [],
   "source": [
    "# Mars Weather\n",
    "\n",
    "weather_url = 'https://twitter.com/marswxreport'\n",
    "browser.visit(weather_url)\n",
    "time.sleep(5)\n",
    "html = browser.html\n",
    "\n",
    "# Parse HTML with Beautiful Soup\n",
    "soup = BeautifulSoup(browser.html, 'html.parser')\n",
    "\n",
    "#print(soup.prettify())"
   ]
  },
  {
   "cell_type": "code",
   "execution_count": 9,
   "metadata": {
    "ExecuteTime": {
     "end_time": "2020-04-25T02:49:21.441212Z",
     "start_time": "2020-04-25T02:49:21.432217Z"
    },
    "tags": [
     "outputPrepend"
    ]
   },
   "outputs": [
    {
     "name": "stdout",
     "output_type": "stream",
     "text": [
      "InSight sol 500 (2020-04-22) low -93.8ºC (-136.8ºF) high -3.5ºC (25.6ºF)\n",
      "winds from the WNW at 4.5 m/s (10.1 mph) gusting to 20.4 m/s (45.6 mph)\n",
      "pressure at 6.70 hPa\n"
     ]
    }
   ],
   "source": [
    "article = soup.find('article')\n",
    "mars_weather = article.find('div',lang=\"en\").span.text\n",
    "print(mars_weather)"
   ]
  },
  {
   "cell_type": "code",
   "execution_count": null,
   "metadata": {},
   "outputs": [],
   "source": []
  },
  {
   "cell_type": "code",
   "execution_count": 10,
   "metadata": {
    "ExecuteTime": {
     "end_time": "2020-04-25T02:49:23.610093Z",
     "start_time": "2020-04-25T02:49:21.444210Z"
    }
   },
   "outputs": [],
   "source": [
    "# Mars Facts\n",
    "\n",
    "facts_url = 'https://space-facts.com/mars/'\n",
    "facts_df = pd.read_html(facts_url)\n",
    "\n",
    "\n",
    "mars_facts = facts_df[0]\n",
    "mars_facts.columns = [\"Category\", \"Fact\"]\n",
    "mars_facts\n",
    "\n",
    "html_table = mars_facts.to_html()\n"
   ]
  },
  {
   "cell_type": "code",
   "execution_count": 11,
   "metadata": {
    "ExecuteTime": {
     "end_time": "2020-04-25T02:49:28.676377Z",
     "start_time": "2020-04-25T02:49:23.612092Z"
    }
   },
   "outputs": [],
   "source": [
    "# Mars Hemispheres\n",
    "\n",
    "hemispheres_url = 'https://astrogeology.usgs.gov/search/results?q=hemisphere+enhanced&k1=target&v1=Mars'\n",
    "browser.visit(hemispheres_url)\n",
    "html = browser.html\n",
    "# Parse HTML with Beautiful Soup\n",
    "soup = BeautifulSoup(html, 'html.parser')\n",
    "#print(soup.prettify())"
   ]
  },
  {
   "cell_type": "code",
   "execution_count": 12,
   "metadata": {
    "ExecuteTime": {
     "end_time": "2020-04-25T02:49:32.596277Z",
     "start_time": "2020-04-25T02:49:28.677350Z"
    }
   },
   "outputs": [
    {
     "name": "stderr",
     "output_type": "stream",
     "text": [
      "e:\\Anaconda3\\envs\\PythonData\\lib\\site-packages\\splinter\\driver\\webdriver\\__init__.py:528: FutureWarning: browser.find_link_by_partial_text is deprecated. Use browser.links.find_by_partial_text instead.\n",
      "  FutureWarning,\n"
     ]
    },
    {
     "name": "stdout",
     "output_type": "stream",
     "text": [
      "[{'title': 'Cerberus Hemisphere Enhanced', 'img_url': 'http://astropedia.astrogeology.usgs.gov/download/Mars/Viking/cerberus_enhanced.tif/full.jpg'}, {'title': 'Schiaparelli Hemisphere Enhanced', 'img_url': 'http://astropedia.astrogeology.usgs.gov/download/Mars/Viking/schiaparelli_enhanced.tif/full.jpg'}, {'title': 'Syrtis Major Hemisphere Enhanced', 'img_url': 'http://astropedia.astrogeology.usgs.gov/download/Mars/Viking/syrtis_major_enhanced.tif/full.jpg'}, {'title': 'Valles Marineris Hemisphere Enhanced', 'img_url': 'http://astropedia.astrogeology.usgs.gov/download/Mars/Viking/valles_marineris_enhanced.tif/full.jpg'}]\n"
     ]
    }
   ],
   "source": [
    "hemisphere_image_urls = []\n",
    "root_url = 'https://astrogeology.usgs.gov'\n",
    "hemispheres = soup.find_all('div','item')\n",
    "for hemisphere in hemispheres:\n",
    "    name = hemisphere.find('div', class_='description')\n",
    "    title_text = name.h3.text\n",
    "    browser.click_link_by_partial_text(title_text)\n",
    "    usgs_html = browser.html\n",
    "    usgs_soup = BeautifulSoup(usgs_html, 'html.parser')\n",
    "    img_url = usgs_soup.find('div', class_='downloads').ul.li.a['href']\n",
    "    hemisphere_image_urls.append({'title': title_text, 'img_url': img_url})\n",
    "    # go back \n",
    "    browser.back()\n",
    "\n",
    "\n",
    "\n",
    "print(hemisphere_image_urls)\n"
   ]
  },
  {
   "cell_type": "code",
   "execution_count": null,
   "metadata": {},
   "outputs": [],
   "source": []
  }
 ],
 "metadata": {
  "kernelspec": {
   "display_name": "Python 3.6.10 64-bit ('PythonData': conda)",
   "language": "python",
   "name": "python361064bitpythondatacondaec7e8270480d4d8a925de6dc1659eacb"
  },
  "language_info": {
   "codemirror_mode": {
    "name": "ipython",
    "version": 3
   },
   "file_extension": ".py",
   "mimetype": "text/x-python",
   "name": "python",
   "nbconvert_exporter": "python",
   "pygments_lexer": "ipython3",
   "version": "3.6.10"
  }
 },
 "nbformat": 4,
 "nbformat_minor": 4
}
