{
 "cells": [
  {
   "cell_type": "code",
   "execution_count": 46,
   "metadata": {},
   "outputs": [],
   "source": [
    "from IPython.display import Image\n",
    "from IPython.core.display import HTML \n",
    "\n",
    "from bs4 import BeautifulSoup\n",
    "from splinter import Browser\n",
    "import os\n",
    "import time\n",
    "import pandas as pd\n"
   ]
  },
  {
   "cell_type": "code",
   "execution_count": 47,
   "metadata": {},
   "outputs": [],
   "source": [
    " # Chromedriver windows\n",
    " executable_path = {'executable_path': 'chromedriver.exe'}\n",
    " browser = Browser('chrome', **executable_path, headless=False)"
   ]
  },
  {
   "cell_type": "code",
   "execution_count": 48,
   "metadata": {},
   "outputs": [],
   "source": [
    "url = \"https://mars.nasa.gov/news/\"\n",
    "browser.visit(url)\n",
    "html = browser.html\n",
    "soup = BeautifulSoup(html,\"html.parser\")"
   ]
  },
  {
   "cell_type": "code",
   "execution_count": 49,
   "metadata": {},
   "outputs": [
    {
     "output_type": "stream",
     "name": "stdout",
     "text": "Title     : How NASA's Perseverance Mars Team Adjusted to Work in the Time of Coronavirus \nParagraph : Like much of the rest of the world, the Mars rover team is pushing forward with its mission-critical work while putting the health and safety of their colleagues and community first.\n"
    }
   ],
   "source": [
    "# latest title\n",
    "time.sleep(5) # Need to wait for page to load for some reason\n",
    "\n",
    "article_list = soup.find('ul',class_='item_list')\n",
    "latest_title = article_list.find(\"div\",class_=\"content_title\").text\n",
    "latest_paragraph = article_list.find(\"div\", class_=\"article_teaser_body\").text\n",
    "print(f\"Title     : {latest_title}\")\n",
    "print(f\"Paragraph : {latest_paragraph}\")"
   ]
  },
  {
   "cell_type": "code",
   "execution_count": 50,
   "metadata": {},
   "outputs": [],
   "source": [
    "# JPL Featured Mars Featured image\n",
    "root_url = 'https://www.jpl.nasa.gov'\n",
    "url_image = \"https://www.jpl.nasa.gov/spaceimages/?search=&category=Mars\"\n",
    "browser.visit(url_image)\n",
    "\n",
    "html = browser.html\n",
    "soup = BeautifulSoup(html, 'html.parser')"
   ]
  },
  {
   "cell_type": "code",
   "execution_count": 51,
   "metadata": {},
   "outputs": [
    {
     "output_type": "stream",
     "name": "stdout",
     "text": "https://www.jpl.nasa.gov/spaceimages/images/mediumsize/PIA19968_ip.jpg\n"
    },
    {
     "output_type": "execute_result",
     "data": {
      "text/html": "<img src=\"https://www.jpl.nasa.gov/spaceimages/images/mediumsize/PIA19968_ip.jpg\"/>",
      "text/plain": "<IPython.core.display.Image object>"
     },
     "metadata": {},
     "execution_count": 51
    }
   ],
   "source": [
    "\n",
    "\n",
    "images = soup.find('a', class_=\"button fancybox\")\n",
    "image_ref = images['data-fancybox-href']\n",
    "#Displaying Featured image ... not always mars image\n",
    "featured_url = root_url + image_ref\n",
    "print(featured_url)\n",
    "Image(url= featured_url)"
   ]
  },
  {
   "cell_type": "code",
   "execution_count": 52,
   "metadata": {},
   "outputs": [
    {
     "output_type": "stream",
     "name": "stdout",
     "text": "April 20, 2020This image from NASAs Mars Odyssey shows the summit of Ascraeus Mons. Ascraeus Mons is the northernmost of the three aligned Tharsis volcanoes.\n\t\t\t\t\t\t\t\t\t\t\nhttps://www.jpl.nasa.gov/spaceimages/images/largesize/PIA23841_hires.jpg\n"
    },
    {
     "output_type": "execute_result",
     "data": {
      "text/html": "<img src=\"https://www.jpl.nasa.gov/spaceimages/images/largesize/PIA23841_hires.jpg\"/>",
      "text/plain": "<IPython.core.display.Image object>"
     },
     "metadata": {},
     "execution_count": 52
    }
   ],
   "source": [
    "#lets get mars image\n",
    "image_list = soup.find('li', class_=\"slide\")\n",
    "images = image_list.find('a', class_='fancybox')\n",
    "image_txt = images.find_all('div','article_teaser_body')\n",
    "image_text = \"\"\n",
    "for txt in image_txt:\n",
    "    image_text +=txt.text.lstrip()\n",
    "    #print(txt.text.lstrip())\n",
    "\n",
    "print(image_text)    \n",
    "\n",
    "\n",
    "image_ref = images['data-fancybox-href']\n",
    "featured_url = root_url + image_ref\n",
    "print(featured_url)\n",
    "Image(url= featured_url)\n",
    "\n"
   ]
  },
  {
   "cell_type": "code",
   "execution_count": 53,
   "metadata": {
    "tags": [
     "outputPrepend"
    ]
   },
   "outputs": [],
   "source": [
    "# Mars Weather\n",
    "\n",
    "weather_url = 'https://twitter.com/marswxreport?lang=en'\n",
    "browser.visit(weather_url)\n",
    "html = browser.html\n",
    "\n",
    "# Parse HTML with Beautiful Soup\n",
    "soup = BeautifulSoup(html, 'html.parser')\n",
    "#print(soup.prettify())"
   ]
  },
  {
   "cell_type": "code",
   "execution_count": 54,
   "metadata": {},
   "outputs": [],
   "source": [
    "\n",
    "## TODO --- Need to figure out how to parse twitter\n",
    "\n",
    "mars_weather=\"\"\"\n",
    "InSight sol 498 (2020-04-21) low -94.3ºC (-137.7ºF) high -5.7ºC (21.8ºF)\n",
    "winds from the SW at 5.0 m/s (11.3 mph) gusting to 16.6 m/s (37.2 mph)\n",
    "pressure at 6.60 hPa\"\"\"\n",
    "\n",
    "\n"
   ]
  },
  {
   "cell_type": "code",
   "execution_count": null,
   "metadata": {},
   "outputs": [],
   "source": []
  },
  {
   "cell_type": "code",
   "execution_count": 55,
   "metadata": {},
   "outputs": [],
   "source": [
    "# Mars Facts\n",
    "\n",
    "facts_url = 'https://space-facts.com/mars/'\n",
    "facts_df = pd.read_html(facts_url)\n",
    "\n",
    "\n",
    "mars_facts = facts_df[0]\n",
    "mars_facts.columns = [\"Category\", \"Fact\"]\n",
    "mars_facts\n",
    "\n",
    "html_table = mars_facts.to_html()\n"
   ]
  },
  {
   "cell_type": "code",
   "execution_count": 56,
   "metadata": {},
   "outputs": [],
   "source": [
    "# Mars Hemispheres\n",
    "\n",
    "hemispheres_url = 'https://astrogeology.usgs.gov/search/results?q=hemisphere+enhanced&k1=target&v1=Mars'\n",
    "browser.visit(hemispheres_url)\n",
    "html = browser.html\n",
    "# Parse HTML with Beautiful Soup\n",
    "soup = BeautifulSoup(html, 'html.parser')\n",
    "#print(soup.prettify())"
   ]
  },
  {
   "cell_type": "code",
   "execution_count": 57,
   "metadata": {},
   "outputs": [
    {
     "output_type": "stream",
     "name": "stdout",
     "text": "[{'title': 'Cerberus Hemisphere Enhanced', 'img_url': 'http://astropedia.astrogeology.usgs.gov/download/Mars/Viking/cerberus_enhanced.tif/full.jpg'}, {'title': 'Schiaparelli Hemisphere Enhanced', 'img_url': 'http://astropedia.astrogeology.usgs.gov/download/Mars/Viking/schiaparelli_enhanced.tif/full.jpg'}, {'title': 'Syrtis Major Hemisphere Enhanced', 'img_url': 'http://astropedia.astrogeology.usgs.gov/download/Mars/Viking/syrtis_major_enhanced.tif/full.jpg'}, {'title': 'Valles Marineris Hemisphere Enhanced', 'img_url': 'http://astropedia.astrogeology.usgs.gov/download/Mars/Viking/valles_marineris_enhanced.tif/full.jpg'}]\n"
    }
   ],
   "source": [
    "hemisphere_image_urls = []\n",
    "root_url = 'https://astrogeology.usgs.gov'\n",
    "hemispheres = soup.find_all('div','item')\n",
    "for hemisphere in hemispheres:\n",
    "    name = hemisphere.find('div', class_='description')\n",
    "    title_text = name.h3.text\n",
    "    browser.click_link_by_partial_text(title_text)\n",
    "    usgs_html = browser.html\n",
    "    usgs_soup = BeautifulSoup(usgs_html, 'html.parser')\n",
    "    img_url = usgs_soup.find('div', class_='downloads').ul.li.a['href']\n",
    "    hemisphere_image_urls.append({'title': title_text, 'img_url': img_url})\n",
    "    # go back \n",
    "    browser.back()\n",
    "\n",
    "\n",
    "\n",
    "print(hemisphere_image_urls)\n"
   ]
  },
  {
   "cell_type": "code",
   "execution_count": null,
   "metadata": {},
   "outputs": [],
   "source": []
  }
 ],
 "metadata": {
  "kernelspec": {
   "name": "python361064bitpythondatacondaec7e8270480d4d8a925de6dc1659eacb",
   "display_name": "Python 3.6.10 64-bit ('PythonData': conda)"
  }
 },
 "nbformat": 4,
 "nbformat_minor": 4
}